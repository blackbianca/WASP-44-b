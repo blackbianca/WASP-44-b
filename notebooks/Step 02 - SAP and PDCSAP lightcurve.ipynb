{
 "cells": [
  {
   "cell_type": "markdown",
   "metadata": {},
   "source": [
    "# SAP and PDCSAP photometry \n",
    "\n",
    "SAP flux = Simple Aperture Photometry flux, the flux after summing the calibrated pixels within the TESS optimal photometric aperture. By carefully choosing the shape of the aperture mask, you can avoid nearby contaminants or improve the strength of the specific signal you are trying to measure relative to the background.\n",
    "\n",
    "PDCSAP Flux = Pre-search Data Conditioned Simple Aperture Photometry, the SAP flux values nominally corrected for instrumental variations. Thus, these fluxes are the mission's best estimate of the intrinsic variability of the target.\n",
    "\n",
    "Pre-search Data Conditioning SAP flux is stored in a TESSLightCurveFile object.  Rather than being generated via a TPF, these objects have been pre-generated using NASA’s Data Processing Pipeline. Usually, you will access these files through the MAST archive.\n",
    "\n",
    "The TESS Science Processing Operations Center - Jon M Jenkins, SPIE 2016\n",
    "Abstract: https://ui.adsabs.harvard.edu/abs/2016SPIE.9913E..3EJ/abstract\n",
    "PDF: https://heasarc.gsfc.nasa.gov/docs/tess/docs/jenkinsSPIE2016-copyright.pdf\n",
    "\n",
    "With PDCSAP flux long term trends have been removed from the data using so-called Co-trending Basis Vectors (CBVs). PDCSAP flux is usually cleaner data than the SAP flux and will have fewer systematic trends.\n",
    "\n",
    "\n"
   ]
  },
  {
   "cell_type": "code",
   "execution_count": 1,
   "metadata": {},
   "outputs": [],
   "source": [
    "%matplotlib notebook \n",
    "import numpy as np\n",
    "from astropy.io import fits\n",
    "from astropy.wcs import WCS\n",
    "import matplotlib.pyplot as plt"
   ]
  },
  {
   "cell_type": "code",
   "execution_count": 2,
   "metadata": {},
   "outputs": [],
   "source": [
    "sector20_lcf = \"/home/ubuntu/Desktop/lab2/WASP-44/MAST_2021-11-29T0310/TESS/tess2018263035959-s0003-0000000012862099-0123-s/tess2018263035959-s0003-0000000012862099-0123-s_tp.fits\"\n",
    "#sector20_lcf = \"../MAST/tess2019357164649-s0020-0000000356473034-0165-s_lc.fits\" "
   ]
  },
  {
   "cell_type": "code",
   "execution_count": 3,
   "metadata": {},
   "outputs": [
    {
     "name": "stdout",
     "output_type": "stream",
     "text": [
      "Filename: /home/ubuntu/Desktop/lab2/WASP-44/MAST_2021-11-29T0310/TESS/tess2018263035959-s0003-0000000012862099-0123-s/tess2018263035959-s0003-0000000012862099-0123-s_tp.fits\n",
      "No.    Name      Ver    Type      Cards   Dimensions   Format\n",
      "  0  PRIMARY       1 PrimaryHDU      44   ()      \n",
      "  1  PIXELS        1 BinTableHDU    248   19692R x 11C   [D, E, J, 121J, 121E, 121E, 121E, 121E, J, E, E]   \n",
      "  2  APERTURE      1 ImageHDU        49   (11, 11)   int32   \n",
      "  3  TARGET COSMIC RAY    1 BinTableHDU     27   0R x 4C   [J, I, I, E]   \n"
     ]
    }
   ],
   "source": [
    "fits.info(sector20_lcf)\n",
    "lchdu = fits.open(sector20_lcf)\n"
   ]
  },
  {
   "cell_type": "code",
   "execution_count": 4,
   "metadata": {},
   "outputs": [
    {
     "data": {
      "text/plain": [
       "ColDefs(\n",
       "    name = 'TIME'; format = 'D'; unit = 'BJD - 2457000, days'; disp = 'D14.7'\n",
       "    name = 'TIMECORR'; format = 'E'; unit = 'd'; disp = 'E14.7'\n",
       "    name = 'CADENCENO'; format = 'J'; disp = 'I10'\n",
       "    name = 'RAW_CNTS'; format = '121J'; unit = 'count'; null = -1; disp = 'I8'; dim = '(11,11)'\n",
       "    name = 'FLUX'; format = '121E'; unit = 'e-/s'; disp = 'E14.7'; dim = '(11,11)'\n",
       "    name = 'FLUX_ERR'; format = '121E'; unit = 'e-/s'; disp = 'E14.7'; dim = '(11,11)'\n",
       "    name = 'FLUX_BKG'; format = '121E'; unit = 'e-/s'; disp = 'E14.7'; dim = '(11,11)'\n",
       "    name = 'FLUX_BKG_ERR'; format = '121E'; unit = 'e-/s'; disp = 'E14.7'; dim = '(11,11)'\n",
       "    name = 'QUALITY'; format = 'J'; disp = 'B16.16'\n",
       "    name = 'POS_CORR1'; format = 'E'; unit = 'pixel'; disp = 'E14.7'\n",
       "    name = 'POS_CORR2'; format = 'E'; unit = 'pixel'; disp = 'E14.7'\n",
       ")"
      ]
     },
     "execution_count": 4,
     "metadata": {},
     "output_type": "execute_result"
    }
   ],
   "source": [
    "lchdu[1].columns\n"
   ]
  },
  {
   "cell_type": "code",
   "execution_count": 5,
   "metadata": {},
   "outputs": [],
   "source": [
    "lcf_data = lchdu[1].data\n"
   ]
  },
  {
   "cell_type": "code",
   "execution_count": 6,
   "metadata": {},
   "outputs": [
    {
     "name": "stdout",
     "output_type": "stream",
     "text": [
      "TESS JD Offset is: 2457000.000000\n"
     ]
    }
   ],
   "source": [
    "time_bjd = lcf_data[\"TIME\"]\n",
    "lcf_head = lchdu[1].header\n",
    "bjd_ref = lcf_head['BJDREFI'] + lcf_head['BJDREFF']\n",
    "\n",
    "print(\"TESS JD Offset is: %f\" % bjd_ref)"
   ]
  },
  {
   "cell_type": "code",
   "execution_count": 7,
   "metadata": {},
   "outputs": [
    {
     "ename": "KeyError",
     "evalue": "\"Key 'SAP_FLUX' does not exist.\"",
     "output_type": "error",
     "traceback": [
      "\u001b[0;31m---------------------------------------------------------------------------\u001b[0m",
      "\u001b[0;31mValueError\u001b[0m                                Traceback (most recent call last)",
      "\u001b[0;32m~/miniconda3/envs/lab2/lib/python3.8/site-packages/astropy/io/fits/column.py\u001b[0m in \u001b[0;36m_get_index\u001b[0;34m(names, key)\u001b[0m\n\u001b[1;32m   2044\u001b[0m         \u001b[0;32mtry\u001b[0m\u001b[0;34m:\u001b[0m\u001b[0;34m\u001b[0m\u001b[0;34m\u001b[0m\u001b[0m\n\u001b[0;32m-> 2045\u001b[0;31m             \u001b[0mindx\u001b[0m \u001b[0;34m=\u001b[0m \u001b[0mnames\u001b[0m\u001b[0;34m.\u001b[0m\u001b[0mindex\u001b[0m\u001b[0;34m(\u001b[0m\u001b[0mkey\u001b[0m\u001b[0;34m.\u001b[0m\u001b[0mrstrip\u001b[0m\u001b[0;34m(\u001b[0m\u001b[0;34m)\u001b[0m\u001b[0;34m)\u001b[0m\u001b[0;34m\u001b[0m\u001b[0;34m\u001b[0m\u001b[0m\n\u001b[0m\u001b[1;32m   2046\u001b[0m         \u001b[0;32mexcept\u001b[0m \u001b[0mValueError\u001b[0m\u001b[0;34m:\u001b[0m\u001b[0;34m\u001b[0m\u001b[0;34m\u001b[0m\u001b[0m\n",
      "\u001b[0;31mValueError\u001b[0m: 'SAP_FLUX' is not in list",
      "\nDuring handling of the above exception, another exception occurred:\n",
      "\u001b[0;31mKeyError\u001b[0m                                  Traceback (most recent call last)",
      "\u001b[0;32m<ipython-input-7-39d79aeee67c>\u001b[0m in \u001b[0;36m<module>\u001b[0;34m\u001b[0m\n\u001b[1;32m      1\u001b[0m \u001b[0mtime_bjd\u001b[0m \u001b[0;34m=\u001b[0m \u001b[0mlcf_data\u001b[0m\u001b[0;34m[\u001b[0m\u001b[0;34m'TIME'\u001b[0m\u001b[0;34m]\u001b[0m \u001b[0;34m+\u001b[0m \u001b[0mbjd_ref\u001b[0m\u001b[0;34m\u001b[0m\u001b[0;34m\u001b[0m\u001b[0m\n\u001b[1;32m      2\u001b[0m \u001b[0;34m\u001b[0m\u001b[0m\n\u001b[0;32m----> 3\u001b[0;31m \u001b[0msap_flux\u001b[0m \u001b[0;34m=\u001b[0m \u001b[0mlcf_data\u001b[0m\u001b[0;34m[\u001b[0m\u001b[0;34m'SAP_FLUX'\u001b[0m\u001b[0;34m]\u001b[0m\u001b[0;34m\u001b[0m\u001b[0;34m\u001b[0m\u001b[0m\n\u001b[0m\u001b[1;32m      4\u001b[0m \u001b[0msap_flux_err\u001b[0m \u001b[0;34m=\u001b[0m \u001b[0mlcf_data\u001b[0m\u001b[0;34m[\u001b[0m\u001b[0;34m'SAP_FLUX_ERR'\u001b[0m\u001b[0;34m]\u001b[0m\u001b[0;34m\u001b[0m\u001b[0;34m\u001b[0m\u001b[0m\n\u001b[1;32m      5\u001b[0m \u001b[0mpdcsap_flux\u001b[0m \u001b[0;34m=\u001b[0m \u001b[0mlcf_data\u001b[0m\u001b[0;34m[\u001b[0m\u001b[0;34m'PDCSAP_FLUX'\u001b[0m\u001b[0;34m]\u001b[0m\u001b[0;34m\u001b[0m\u001b[0;34m\u001b[0m\u001b[0m\n",
      "\u001b[0;32m~/miniconda3/envs/lab2/lib/python3.8/site-packages/astropy/io/fits/fitsrec.py\u001b[0m in \u001b[0;36m__getitem__\u001b[0;34m(self, key)\u001b[0m\n\u001b[1;32m    502\u001b[0m \u001b[0;34m\u001b[0m\u001b[0m\n\u001b[1;32m    503\u001b[0m         \u001b[0;32mif\u001b[0m \u001b[0misinstance\u001b[0m\u001b[0;34m(\u001b[0m\u001b[0mkey\u001b[0m\u001b[0;34m,\u001b[0m \u001b[0mstr\u001b[0m\u001b[0;34m)\u001b[0m\u001b[0;34m:\u001b[0m\u001b[0;34m\u001b[0m\u001b[0;34m\u001b[0m\u001b[0m\n\u001b[0;32m--> 504\u001b[0;31m             \u001b[0;32mreturn\u001b[0m \u001b[0mself\u001b[0m\u001b[0;34m.\u001b[0m\u001b[0mfield\u001b[0m\u001b[0;34m(\u001b[0m\u001b[0mkey\u001b[0m\u001b[0;34m)\u001b[0m\u001b[0;34m\u001b[0m\u001b[0;34m\u001b[0m\u001b[0m\n\u001b[0m\u001b[1;32m    505\u001b[0m \u001b[0;34m\u001b[0m\u001b[0m\n\u001b[1;32m    506\u001b[0m         \u001b[0;31m# Have to view as a recarray then back as a FITS_rec, otherwise the\u001b[0m\u001b[0;34m\u001b[0m\u001b[0;34m\u001b[0m\u001b[0;34m\u001b[0m\u001b[0m\n",
      "\u001b[0;32m~/miniconda3/envs/lab2/lib/python3.8/site-packages/astropy/io/fits/fitsrec.py\u001b[0m in \u001b[0;36mfield\u001b[0;34m(self, key)\u001b[0m\n\u001b[1;32m    689\u001b[0m         \u001b[0;31m# NOTE: The *column* index may not be the same as the field index in\u001b[0m\u001b[0;34m\u001b[0m\u001b[0;34m\u001b[0m\u001b[0;34m\u001b[0m\u001b[0m\n\u001b[1;32m    690\u001b[0m         \u001b[0;31m# the recarray, if the column is a phantom column\u001b[0m\u001b[0;34m\u001b[0m\u001b[0;34m\u001b[0m\u001b[0;34m\u001b[0m\u001b[0m\n\u001b[0;32m--> 691\u001b[0;31m         \u001b[0mcolumn\u001b[0m \u001b[0;34m=\u001b[0m \u001b[0mself\u001b[0m\u001b[0;34m.\u001b[0m\u001b[0mcolumns\u001b[0m\u001b[0;34m[\u001b[0m\u001b[0mkey\u001b[0m\u001b[0;34m]\u001b[0m\u001b[0;34m\u001b[0m\u001b[0;34m\u001b[0m\u001b[0m\n\u001b[0m\u001b[1;32m    692\u001b[0m         \u001b[0mname\u001b[0m \u001b[0;34m=\u001b[0m \u001b[0mcolumn\u001b[0m\u001b[0;34m.\u001b[0m\u001b[0mname\u001b[0m\u001b[0;34m\u001b[0m\u001b[0;34m\u001b[0m\u001b[0m\n\u001b[1;32m    693\u001b[0m         \u001b[0mformat\u001b[0m \u001b[0;34m=\u001b[0m \u001b[0mcolumn\u001b[0m\u001b[0;34m.\u001b[0m\u001b[0mformat\u001b[0m\u001b[0;34m\u001b[0m\u001b[0;34m\u001b[0m\u001b[0m\n",
      "\u001b[0;32m~/miniconda3/envs/lab2/lib/python3.8/site-packages/astropy/io/fits/column.py\u001b[0m in \u001b[0;36m__getitem__\u001b[0;34m(self, key)\u001b[0m\n\u001b[1;32m   1641\u001b[0m     \u001b[0;32mdef\u001b[0m \u001b[0m__getitem__\u001b[0m\u001b[0;34m(\u001b[0m\u001b[0mself\u001b[0m\u001b[0;34m,\u001b[0m \u001b[0mkey\u001b[0m\u001b[0;34m)\u001b[0m\u001b[0;34m:\u001b[0m\u001b[0;34m\u001b[0m\u001b[0;34m\u001b[0m\u001b[0m\n\u001b[1;32m   1642\u001b[0m         \u001b[0;32mif\u001b[0m \u001b[0misinstance\u001b[0m\u001b[0;34m(\u001b[0m\u001b[0mkey\u001b[0m\u001b[0;34m,\u001b[0m \u001b[0mstr\u001b[0m\u001b[0;34m)\u001b[0m\u001b[0;34m:\u001b[0m\u001b[0;34m\u001b[0m\u001b[0;34m\u001b[0m\u001b[0m\n\u001b[0;32m-> 1643\u001b[0;31m             \u001b[0mkey\u001b[0m \u001b[0;34m=\u001b[0m \u001b[0m_get_index\u001b[0m\u001b[0;34m(\u001b[0m\u001b[0mself\u001b[0m\u001b[0;34m.\u001b[0m\u001b[0mnames\u001b[0m\u001b[0;34m,\u001b[0m \u001b[0mkey\u001b[0m\u001b[0;34m)\u001b[0m\u001b[0;34m\u001b[0m\u001b[0;34m\u001b[0m\u001b[0m\n\u001b[0m\u001b[1;32m   1644\u001b[0m \u001b[0;34m\u001b[0m\u001b[0m\n\u001b[1;32m   1645\u001b[0m         \u001b[0mx\u001b[0m \u001b[0;34m=\u001b[0m \u001b[0mself\u001b[0m\u001b[0;34m.\u001b[0m\u001b[0mcolumns\u001b[0m\u001b[0;34m[\u001b[0m\u001b[0mkey\u001b[0m\u001b[0;34m]\u001b[0m\u001b[0;34m\u001b[0m\u001b[0;34m\u001b[0m\u001b[0m\n",
      "\u001b[0;32m~/miniconda3/envs/lab2/lib/python3.8/site-packages/astropy/io/fits/column.py\u001b[0m in \u001b[0;36m_get_index\u001b[0;34m(names, key)\u001b[0m\n\u001b[1;32m   2052\u001b[0m                 \u001b[0mindx\u001b[0m \u001b[0;34m=\u001b[0m \u001b[0mnames\u001b[0m\u001b[0;34m.\u001b[0m\u001b[0mindex\u001b[0m\u001b[0;34m(\u001b[0m\u001b[0m_key\u001b[0m\u001b[0;34m)\u001b[0m\u001b[0;34m\u001b[0m\u001b[0;34m\u001b[0m\u001b[0m\n\u001b[1;32m   2053\u001b[0m             \u001b[0;32melif\u001b[0m \u001b[0mcount\u001b[0m \u001b[0;34m==\u001b[0m \u001b[0;36m0\u001b[0m\u001b[0;34m:\u001b[0m\u001b[0;34m\u001b[0m\u001b[0;34m\u001b[0m\u001b[0m\n\u001b[0;32m-> 2054\u001b[0;31m                 \u001b[0;32mraise\u001b[0m \u001b[0mKeyError\u001b[0m\u001b[0;34m(\u001b[0m\u001b[0;34mf\"Key '{key}' does not exist.\"\u001b[0m\u001b[0;34m)\u001b[0m\u001b[0;34m\u001b[0m\u001b[0;34m\u001b[0m\u001b[0m\n\u001b[0m\u001b[1;32m   2055\u001b[0m             \u001b[0;32melse\u001b[0m\u001b[0;34m:\u001b[0m              \u001b[0;31m# multiple match\u001b[0m\u001b[0;34m\u001b[0m\u001b[0;34m\u001b[0m\u001b[0m\n\u001b[1;32m   2056\u001b[0m                 \u001b[0;32mraise\u001b[0m \u001b[0mKeyError\u001b[0m\u001b[0;34m(\u001b[0m\u001b[0;34mf\"Ambiguous key name '{key}'.\"\u001b[0m\u001b[0;34m)\u001b[0m\u001b[0;34m\u001b[0m\u001b[0;34m\u001b[0m\u001b[0m\n",
      "\u001b[0;31mKeyError\u001b[0m: \"Key 'SAP_FLUX' does not exist.\""
     ]
    }
   ],
   "source": [
    "time_bjd = lcf_data['TIME'] + bjd_ref\n",
    "\n",
    "sap_flux = lcf_data['SAP_FLUX']\n",
    "sap_flux_err = lcf_data['SAP_FLUX_ERR']\n",
    "pdcsap_flux = lcf_data['PDCSAP_FLUX']\n",
    "pdcsap_flux_err = lcf_data['PDCSAP_FLUX_ERR']"
   ]
  },
  {
   "cell_type": "code",
   "execution_count": null,
   "metadata": {},
   "outputs": [],
   "source": []
  },
  {
   "cell_type": "code",
   "execution_count": null,
   "metadata": {},
   "outputs": [],
   "source": [
    "plt.figure(figsize = (8,4))\n",
    "plt.plot(time_bjd, sap_flux,'.', label = 'SAP', ms = 6)\n",
    "plt.plot(time_bjd, pdcsap_flux,'.', label = 'PDCSAP', ms = 6)\n",
    "\n",
    "for ii in range(0,10):\n",
    "    plt.axvline(2458843.218679 + 2.61582557385023*ii, c='C3', alpha=0.25)\n",
    "\n",
    "plt.legend()\n",
    "plt.xlabel('Time (BJD)', fontsize = 14)\n",
    "plt.ylabel('Flux (e-/s)', fontsize = 14)\n",
    "plt.title(\"TESS Lightcurve Derived from Calibrated Pixels.\", fontsize = 14)\n",
    "plt.show()"
   ]
  },
  {
   "cell_type": "code",
   "execution_count": null,
   "metadata": {},
   "outputs": [],
   "source": [
    "print('Number of    SAP epochs:', np.shape(sap_flux))\n",
    "print('Number of PDCSAP epochs:', np.shape(pdcsap_flux))"
   ]
  },
  {
   "cell_type": "code",
   "execution_count": null,
   "metadata": {},
   "outputs": [],
   "source": [
    "sel = (np.abs(time_bjd-2458857) < 0.2)\n",
    "print(pdcsap_flux[sel])"
   ]
  },
  {
   "cell_type": "code",
   "execution_count": null,
   "metadata": {},
   "outputs": [],
   "source": [
    "quality = lcf_data['QUALITY']\n",
    "\n",
    "\n",
    "bits_to_be_checked = np.array([1,2,3,4,5,6,8,10,12,13])\n",
    "value = 0\n",
    "for v in bits_to_be_checked:\n",
    "    value = value + 2**(v-1)\n",
    "\n",
    "print(value)\n",
    "print(quality[3])\n",
    "print()\n",
    "print('{0:16d}'.format(int(np.binary_repr(value))))\n",
    "print('{0:16d}'.format(int(np.binary_repr(quality[3]))))\n",
    "\n",
    "\n",
    "bad_data = (np.bitwise_and(quality, value) >= 1) & (np.isnan(pdcsap_flux))\n",
    "# those are the points to be removed\n",
    "\n",
    "print(bad_data[3])\n",
    "\n",
    "good_data = ~bad_data\n"
   ]
  },
  {
   "cell_type": "code",
   "execution_count": null,
   "metadata": {},
   "outputs": [],
   "source": [
    "optimal_phot_data = np.genfromtxt('XO2N_optimal_aperture.dat')\n",
    "\n",
    "plt.figure(figsize = (8,4))\n",
    "plt.plot(time_bjd[good_data], sap_flux[good_data],'.', label = 'SAP', ms = 8)\n",
    "plt.plot(time_bjd[bad_data], sap_flux[bad_data],'.', label = 'SAP - excluded', c='r', ms = 8)\n",
    "\n",
    "plt.plot(time_bjd[good_data], pdcsap_flux[good_data],'.', label = 'PDCSAP', ms = 6)\n",
    "plt.plot(optimal_phot_data[:,0], optimal_phot_data[:,1],'.', label = 'Optimal_photometry', ms = 3)\n",
    "\n",
    "for ii in range(0,10):\n",
    "    plt.axvline(2458843.218679 + 2.61582557385023*ii, c='C3', alpha=0.25)\n",
    "\n",
    "plt.legend()\n",
    "plt.xlabel('Time (BJD)', fontsize = 14)\n",
    "plt.ylabel('Flux (e-/s)', fontsize = 14)\n",
    "plt.title(\"TESS Lightcurve Derived from Calibrated Pixels.\", fontsize = 14)\n",
    "plt.show()"
   ]
  },
  {
   "cell_type": "code",
   "execution_count": null,
   "metadata": {},
   "outputs": [],
   "source": [
    "fileout = open('XO2N_SAPflux.dat', 'w')\n",
    "\n",
    "for b,v,e in zip(time_bjd[good_data], \n",
    "                 sap_flux[good_data], \n",
    "                 sap_flux_err[good_data]):\n",
    "    fileout.write('{0:16f} {1:16f} {2:16f}\\n'.format(b,v,e))\n",
    "fileout.close()\n",
    "\n",
    "fileout = open('XO2N_PDCSAPflux.dat', 'w')\n",
    "\n",
    "for b,v,e in zip(time_bjd[good_data], \n",
    "                 pdcsap_flux[good_data], \n",
    "                 pdcsap_flux_err[good_data]):\n",
    "    fileout.write('{0:16f} {1:16f} {2:16f}\\n'.format(b,v,e))\n",
    "fileout.close()"
   ]
  },
  {
   "cell_type": "code",
   "execution_count": null,
   "metadata": {},
   "outputs": [],
   "source": []
  }
 ],
 "metadata": {
  "kernelspec": {
   "display_name": "Python 3",
   "language": "python",
   "name": "python3"
  },
  "language_info": {
   "codemirror_mode": {
    "name": "ipython",
    "version": 3
   },
   "file_extension": ".py",
   "mimetype": "text/x-python",
   "name": "python",
   "nbconvert_exporter": "python",
   "pygments_lexer": "ipython3",
   "version": "3.8.8"
  }
 },
 "nbformat": 4,
 "nbformat_minor": 4
}
