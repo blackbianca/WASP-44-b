{
 "cells": [
  {
   "cell_type": "code",
   "execution_count": 49,
   "metadata": {},
   "outputs": [
    {
     "name": "stdout",
     "output_type": "stream",
     "text": [
      "c:\\Users\\User\\Desktop\\UniPD\\V anno\\Laboratory 2\\wasp-44\\shared\\notebooks\n",
      "<class 'str'>\n"
     ]
    }
   ],
   "source": [
    "%matplotlib notebook\n",
    "%matplotlib inline\n",
    "import numpy as np\n",
    "from astropy.io import fits\n",
    "from astropy.wcs import WCS\n",
    "import matplotlib.pyplot as plt\n",
    "import os\n",
    "print(os.getcwd())\n",
    "myloc = str(os.getcwd)\n",
    "print(type(myloc))\n",
    "\n",
    "ale_ubuntu_path = str(\"/home/ubuntu/Desktop/lab2/WASP-44/MAST_2021-11-29T0310/TESS/tess2018263035959-s0003-0000000012862099-0123-s\")\n",
    "ale_windows_path = str(\"\")"
   ]
  },
  {
   "cell_type": "code",
   "execution_count": 50,
   "metadata": {},
   "outputs": [],
   "source": [
    "#sector3_tpf= ale_ubuntu_path + \"/tess2018263035959-s0003-0000000012862099-0123-s_tp.fits\"\n",
    "sector3_tpf = \"../../MAST/tess2018263035959-s0003-0000000012862099-0123-s_tp.fits\""
   ]
  },
  {
   "cell_type": "code",
   "execution_count": 51,
   "metadata": {},
   "outputs": [
    {
     "name": "stdout",
     "output_type": "stream",
     "text": [
      "Filename: ../MAST/tess2018263035959-s0003-0000000012862099-0123-s_tp.fits\n",
      "No.    Name      Ver    Type      Cards   Dimensions   Format\n",
      "  0  PRIMARY       1 PrimaryHDU      44   ()      \n",
      "  1  PIXELS        1 BinTableHDU    248   19692R x 11C   [D, E, J, 121J, 121E, 121E, 121E, 121E, J, E, E]   \n",
      "  2  APERTURE      1 ImageHDU        49   (11, 11)   int32   \n",
      "  3  TARGET COSMIC RAY    1 BinTableHDU     27   0R x 4C   [J, I, I, E]   \n"
     ]
    }
   ],
   "source": [
    "fits.info(sector3_tpf)"
   ]
  },
  {
   "cell_type": "code",
   "execution_count": 52,
   "metadata": {},
   "outputs": [],
   "source": [
    "tp_read = fits.open(sector3_tpf)"
   ]
  },
  {
   "cell_type": "code",
   "execution_count": 53,
   "metadata": {},
   "outputs": [
    {
     "name": "stdout",
     "output_type": "stream",
     "text": [
      "[<astropy.io.fits.hdu.image.PrimaryHDU object at 0x0000015E4BC78C40>, <astropy.io.fits.hdu.table.BinTableHDU object at 0x0000015E4BD6F400>, <astropy.io.fits.hdu.image.ImageHDU object at 0x0000015E4752D550>, <astropy.io.fits.hdu.table.BinTableHDU object at 0x0000015E4BA266D0>]\n"
     ]
    }
   ],
   "source": [
    "print(tp_read)"
   ]
  },
  {
   "cell_type": "code",
   "execution_count": 54,
   "metadata": {},
   "outputs": [
    {
     "data": {
      "text/plain": [
       "ColDefs(\n",
       "    name = 'TIME'; format = 'D'; unit = 'BJD - 2457000, days'; disp = 'D14.7'\n",
       "    name = 'TIMECORR'; format = 'E'; unit = 'd'; disp = 'E14.7'\n",
       "    name = 'CADENCENO'; format = 'J'; disp = 'I10'\n",
       "    name = 'RAW_CNTS'; format = '121J'; unit = 'count'; null = -1; disp = 'I8'; dim = '(11,11)'\n",
       "    name = 'FLUX'; format = '121E'; unit = 'e-/s'; disp = 'E14.7'; dim = '(11,11)'\n",
       "    name = 'FLUX_ERR'; format = '121E'; unit = 'e-/s'; disp = 'E14.7'; dim = '(11,11)'\n",
       "    name = 'FLUX_BKG'; format = '121E'; unit = 'e-/s'; disp = 'E14.7'; dim = '(11,11)'\n",
       "    name = 'FLUX_BKG_ERR'; format = '121E'; unit = 'e-/s'; disp = 'E14.7'; dim = '(11,11)'\n",
       "    name = 'QUALITY'; format = 'J'; disp = 'B16.16'\n",
       "    name = 'POS_CORR1'; format = 'E'; unit = 'pixel'; disp = 'E14.7'\n",
       "    name = 'POS_CORR2'; format = 'E'; unit = 'pixel'; disp = 'E14.7'\n",
       ")"
      ]
     },
     "execution_count": 54,
     "metadata": {},
     "output_type": "execute_result"
    }
   ],
   "source": [
    "tp_read[1].columns"
   ]
  },
  {
   "cell_type": "markdown",
   "metadata": {},
   "source": [
    "The above cell shows that time is given in bjd coordinates minus a given constant, we'll have to convert time back to bjd to match taste data"
   ]
  },
  {
   "cell_type": "code",
   "execution_count": 55,
   "metadata": {},
   "outputs": [
    {
     "name": "stdout",
     "output_type": "stream",
     "text": [
      "(19692, 11, 11)\n"
     ]
    },
    {
     "data": {
      "image/png": "[encoded data removed]",
      "text/plain": [
       "<Figure size 432x288 with 1 Axes>"
      ]
     },
     "metadata": {
      "needs_background": "light"
     },
     "output_type": "display_data"
    }
   ],
   "source": [
    "#plot the first image\n",
    "tpf_data = tp_read[1].data\n",
    "#print(tpf_data[\"flux\"])\n",
    "print(np.shape(tpf_data[\"flux\"]))\n",
    "\n",
    "wcs = WCS(tp_read[2].header)\n",
    "\n",
    "fig = plt.figure()\n",
    "fig.add_subplot(111, projection=wcs)\n",
    "plt.imshow(tpf_data[\"flux\"][0], origin = \"lower\")\n",
    "plt.grid(axis=\"both\", color=\"white\", ls=\"solid\")\n",
    "plt.xlabel(\"RA\", fontsize=14)\n",
    "plt.show()"
   ]
  },
  {
   "cell_type": "code",
   "execution_count": 56,
   "metadata": {},
   "outputs": [
    {
     "name": "stdout",
     "output_type": "stream",
     "text": [
      "[1382.04024484 1382.04163374 1382.04302264 1382.04441153 1382.04580043\n",
      " 1382.04718933 1382.04857822 1382.04996712 1382.05135602 1382.05274492]\n"
     ]
    }
   ],
   "source": [
    "print(tpf_data[\"TIME\"][:10])"
   ]
  },
  {
   "cell_type": "code",
   "execution_count": 57,
   "metadata": {},
   "outputs": [],
   "source": [
    "#let's convert them in bjd\n",
    "time = tpf_data[\"TIME\"] + 2457000.0\n"
   ]
  },
  {
   "cell_type": "code",
   "execution_count": 58,
   "metadata": {},
   "outputs": [
    {
     "name": "stdout",
     "output_type": "stream",
     "text": [
      "2457000.0\n"
     ]
    }
   ],
   "source": [
    "tpf_head = tp_read[1].header\n",
    "bjdref = tpf_head[\"BJDREFI\"] + tpf_head[\"BJDREFF\"]\n",
    "#print(tpf_head)\n",
    "#print(tpf_head[\"TTYPE2\"])\n",
    "print(bjdref)"
   ]
  },
  {
   "cell_type": "code",
   "execution_count": 59,
   "metadata": {},
   "outputs": [
    {
     "name": "stdout",
     "output_type": "stream",
     "text": [
      "[2458382.04024484 2458382.04163374 2458382.04302264 ... 2458409.38547555\n",
      " 2458409.38686438 2458409.38825322]\n"
     ]
    }
   ],
   "source": [
    "print(time)"
   ]
  },
  {
   "cell_type": "code",
   "execution_count": 60,
   "metadata": {},
   "outputs": [
    {
     "data": {
      "text/plain": [
       "ColDefs(\n",
       "    name = 'TIME'; format = 'D'; unit = 'BJD - 2457000, days'; disp = 'D14.7'\n",
       "    name = 'TIMECORR'; format = 'E'; unit = 'd'; disp = 'E14.7'\n",
       "    name = 'CADENCENO'; format = 'J'; disp = 'I10'\n",
       "    name = 'RAW_CNTS'; format = '121J'; unit = 'count'; null = -1; disp = 'I8'; dim = '(11,11)'\n",
       "    name = 'FLUX'; format = '121E'; unit = 'e-/s'; disp = 'E14.7'; dim = '(11,11)'\n",
       "    name = 'FLUX_ERR'; format = '121E'; unit = 'e-/s'; disp = 'E14.7'; dim = '(11,11)'\n",
       "    name = 'FLUX_BKG'; format = '121E'; unit = 'e-/s'; disp = 'E14.7'; dim = '(11,11)'\n",
       "    name = 'FLUX_BKG_ERR'; format = '121E'; unit = 'e-/s'; disp = 'E14.7'; dim = '(11,11)'\n",
       "    name = 'QUALITY'; format = 'J'; disp = 'B16.16'\n",
       "    name = 'POS_CORR1'; format = 'E'; unit = 'pixel'; disp = 'E14.7'\n",
       "    name = 'POS_CORR2'; format = 'E'; unit = 'pixel'; disp = 'E14.7'\n",
       ")"
      ]
     },
     "execution_count": 60,
     "metadata": {},
     "output_type": "execute_result"
    }
   ],
   "source": [
    "tp_read[1].columns\n",
    "# we're going to work on flux, bkg flux and the quality factor"
   ]
  },
  {
   "cell_type": "code",
   "execution_count": 61,
   "metadata": {},
   "outputs": [],
   "source": [
    "time_bjd = tp_read[1].data[\"TIME\"] + bjdref\n",
    "raw_counts = tp_read[1].data[\"RAW_CNTS\"]\n",
    "calibrated_frames = tp_read[1].data[\"FLUX\"]\n",
    "calibrated_frames_err = tp_read[1].data[\"FLUX_ERR\"]"
   ]
  },
  {
   "cell_type": "code",
   "execution_count": 62,
   "metadata": {},
   "outputs": [
    {
     "data": {
      "image/png": "[encoded data removed]",
      "text/plain": [
       "<Figure size 432x288 with 2 Axes>"
      ]
     },
     "metadata": {
      "needs_background": "light"
     },
     "output_type": "display_data"
    }
   ],
   "source": [
    "fig, ax = plt.subplots()\n",
    "cax = ax.imshow(calibrated_frames[1,:,:], cmap = plt.cm.hot, origin=\"lower\")\n",
    "cbar = fig.colorbar(cax)\n",
    "plt.show()"
   ]
  },
  {
   "cell_type": "code",
   "execution_count": 63,
   "metadata": {},
   "outputs": [
    {
     "name": "stdout",
     "output_type": "stream",
     "text": [
      "[[257 257 257 257 257 257 257 257 257 257 257]\n",
      " [257 257 257 257 257 257 257 257 257 257 257]\n",
      " [257 257 261 257 257 257 257 257 257 261 257]\n",
      " [257 261 261 257 257 257 257 257 261 257 257]\n",
      " [257 261 261 257 257 257 257 257 261 261 257]\n",
      " [257 261 261 257 257 267 267 257 261 261 257]\n",
      " [257 261 257 257 267 267 267 257 257 257 257]\n",
      " [257 261 261 257 257 267 267 257 257 257 257]\n",
      " [257 257 257 257 257 257 257 257 257 257 257]\n",
      " [257 257 257 261 257 257 257 261 261 261 257]\n",
      " [257 257 261 261 261 261 261 261 261 261 257]]\n"
     ]
    }
   ],
   "source": [
    "# now it's time to select aperture. This is not exactly chosen by us, since in the case of Kepler or TESS\n",
    "# it is already defined by the science team\n",
    "\n",
    "ap_image = tp_read[2].data\n",
    "print(ap_image)\n",
    "\n",
    "# we want to correct for the response of each pixel\n",
    "# according to the properties of a pixel, we can mask some of them, so that we employ some for a certain purpose and \n",
    "# rule others out for other things"
   ]
  },
  {
   "cell_type": "code",
   "execution_count": 64,
   "metadata": {},
   "outputs": [
    {
     "name": "stdout",
     "output_type": "stream",
     "text": [
      "100001011\n",
      "100000001\n"
     ]
    }
   ],
   "source": [
    "# let's write down the binary representation of the numbers we need\n",
    "bits = np.binary_repr(267)\n",
    "print(bits)\n",
    "\n",
    "bits = np.binary_repr(257)\n",
    "print(bits)"
   ]
  },
  {
   "cell_type": "code",
   "execution_count": 65,
   "metadata": {},
   "outputs": [
    {
     "data": {
      "image/png": "[encoded data removed]",
      "text/plain": [
       "<Figure size 360x360 with 2 Axes>"
      ]
     },
     "metadata": {
      "needs_background": "light"
     },
     "output_type": "display_data"
    }
   ],
   "source": [
    "fig, ax = plt.subplots(figsize=(5,5))\n",
    "cax = ax.imshow(calibrated_frames[0,:,:], cmap = plt.cm.gnuplot, origin=\"lower\")\n",
    "cbx = ax.imshow(ap_image, cmap=plt.cm.hot, origin=\"lower\", alpha=0.5)\n",
    "cbar = fig.colorbar(cbx)\n",
    "plt.show()"
   ]
  },
  {
   "cell_type": "markdown",
   "metadata": {},
   "source": [
    "lighter cells are used for the flux, red ones for bkg only\n",
    "\n",
    "\n",
    "Now we are ready for aperture photometry"
   ]
  },
  {
   "cell_type": "code",
   "execution_count": 66,
   "metadata": {},
   "outputs": [
    {
     "name": "stdout",
     "output_type": "stream",
     "text": [
      "[[0 0 0 0 0 0 0 0 0 0 0]\n",
      " [0 0 0 0 0 0 0 0 0 0 0]\n",
      " [0 0 0 0 0 0 0 0 0 0 0]\n",
      " [0 0 0 0 0 0 0 0 0 0 0]\n",
      " [0 0 0 0 0 0 0 0 0 0 0]\n",
      " [0 0 0 0 0 2 2 0 0 0 0]\n",
      " [0 0 0 0 2 2 2 0 0 0 0]\n",
      " [0 0 0 0 0 2 2 0 0 0 0]\n",
      " [0 0 0 0 0 0 0 0 0 0 0]\n",
      " [0 0 0 0 0 0 0 0 0 0 0]\n",
      " [0 0 0 0 0 0 0 0 0 0 0]]\n"
     ]
    }
   ],
   "source": [
    "# the following command compares entries of ap_image with the number 2\n",
    "ap_wanet = np.bitwise_and(ap_image, 2)\n",
    "print(ap_wanet)\n",
    "\n",
    "# here we have 2 wherever there was 267, since the binary representation corresponds at the powers 1 and 2\n",
    "\n",
    "#2 = 10\n",
    "#267 = 100001011"
   ]
  },
  {
   "cell_type": "code",
   "execution_count": 67,
   "metadata": {},
   "outputs": [
    {
     "name": "stdout",
     "output_type": "stream",
     "text": [
      "[[1 1 1 1 1 1 1 1 1 1 1]\n",
      " [1 1 1 1 1 1 1 1 1 1 1]\n",
      " [1 1 1 1 1 1 1 1 1 1 1]\n",
      " [1 1 1 1 1 1 1 1 1 1 1]\n",
      " [1 1 1 1 1 1 1 1 1 1 1]\n",
      " [1 1 1 1 1 3 3 1 1 1 1]\n",
      " [1 1 1 1 3 3 3 1 1 1 1]\n",
      " [1 1 1 1 1 3 3 1 1 1 1]\n",
      " [1 1 1 1 1 1 1 1 1 1 1]\n",
      " [1 1 1 1 1 1 1 1 1 1 1]\n",
      " [1 1 1 1 1 1 1 1 1 1 1]]\n"
     ]
    }
   ],
   "source": [
    "ap_wanet = np.bitwise_and(ap_image, 3)\n",
    "print(ap_wanet)\n",
    "\n",
    "# here we have 3 wherever there was 267, since the binary representation corresponds at the powers 0,1,2\n",
    "# and we have 1 wherever there was 257, since the representation corresponds at the powers 0\n",
    "\n",
    "#3 = 11\n",
    "#267 = 100001011\n",
    "#257 = 100000001"
   ]
  },
  {
   "cell_type": "code",
   "execution_count": 68,
   "metadata": {},
   "outputs": [
    {
     "name": "stdout",
     "output_type": "stream",
     "text": [
      "[[0. 0. 0. 0. 0. 0. 0. 0. 0. 0. 0.]\n",
      " [0. 0. 0. 0. 0. 0. 0. 0. 0. 0. 0.]\n",
      " [0. 0. 0. 0. 0. 0. 0. 0. 0. 0. 0.]\n",
      " [0. 0. 0. 0. 0. 0. 0. 0. 0. 0. 0.]\n",
      " [0. 0. 0. 0. 0. 0. 0. 0. 0. 0. 0.]\n",
      " [0. 0. 0. 0. 0. 1. 1. 0. 0. 0. 0.]\n",
      " [0. 0. 0. 0. 1. 1. 1. 0. 0. 0. 0.]\n",
      " [0. 0. 0. 0. 0. 1. 1. 0. 0. 0. 0.]\n",
      " [0. 0. 0. 0. 0. 0. 0. 0. 0. 0. 0.]\n",
      " [0. 0. 0. 0. 0. 0. 0. 0. 0. 0. 0.]\n",
      " [0. 0. 0. 0. 0. 0. 0. 0. 0. 0. 0.]]\n"
     ]
    }
   ],
   "source": [
    "ap_want = np.bitwise_and(ap_image, 2)/2.\n",
    "print(ap_want)\n",
    "\n",
    "# this is to obtain the correct mask, only selecting th pixels belonging to the aperture"
   ]
  },
  {
   "cell_type": "code",
   "execution_count": 69,
   "metadata": {},
   "outputs": [],
   "source": [
    "def aperture_phot(flux, flux_err, aperture):\n",
    "    aperture_flux = np.sum(flux*aperture)\n",
    "    #aperture_flux = np.sum(flux[aperture==1])\n",
    "    aperture_flux_err = np.sqrt(np.sum(flux_err**2 * aperture))\n",
    "    #aperture_flux_err = np.sqrt(np.sum(flux_err[aperture==1]**2))\n",
    "    \n",
    "    return aperture_flux, aperture_flux_err"
   ]
  },
  {
   "cell_type": "code",
   "execution_count": 70,
   "metadata": {},
   "outputs": [
    {
     "name": "stdout",
     "output_type": "stream",
     "text": [
      "(19692, 11, 11)\n",
      "(19692,)\n"
     ]
    }
   ],
   "source": [
    "print(np.shape(calibrated_frames))\n",
    "print(np.shape(time_bjd))"
   ]
  },
  {
   "cell_type": "code",
   "execution_count": 71,
   "metadata": {},
   "outputs": [
    {
     "name": "stdout",
     "output_type": "stream",
     "text": [
      "[2848.31988525 2844.32165527 1299.99533081 ... 1297.41049957 1297.52867889\n",
      " 1255.78128815]\n",
      "[5.96560466 5.96289059 6.04544461 ... 7.71938269 7.71595701 7.68858671]\n"
     ]
    }
   ],
   "source": [
    "n_cadence = np.shape(time_bjd)[0]\n",
    "\n",
    "optimal_aperture_flux = np.empty(n_cadence)\n",
    "optimal_aperture_flux_err = np.empty(n_cadence)\n",
    "# and now we're going to fill in these arrays\n",
    "\n",
    "for ii in range(0, n_cadence):\n",
    "    optimal_aperture_flux[ii],optimal_aperture_flux_err[ii] = aperture_phot(calibrated_frames[ii,:,:], calibrated_frames_err[ii,:,:], ap_want)\n",
    "\n",
    "print(optimal_aperture_flux)\n",
    "print(optimal_aperture_flux_err)"
   ]
  },
  {
   "cell_type": "code",
   "execution_count": 72,
   "metadata": {},
   "outputs": [
    {
     "data": {
      "image/png": "[encoded data removed]",
      "text/plain": [
       "<Figure size 432x288 with 1 Axes>"
      ]
     },
     "metadata": {
      "needs_background": "light"
     },
     "output_type": "display_data"
    }
   ],
   "source": [
    "plt.figure()\n",
    "plt.scatter(time_bjd, optimal_aperture_flux, s=5)\n",
    "\n",
    "for ii in range(0,10):\n",
    "    plt.axvline(2458386.578118+ii*2.423823, c=\"C3\", alpha=0.25)\n",
    "\n",
    "#we're tracing lines at epoch+multiples of the period\n",
    "#this is just to highlight the cadence of transits\n",
    "\n",
    "plt.show()"
   ]
  },
  {
   "cell_type": "code",
   "execution_count": 73,
   "metadata": {},
   "outputs": [],
   "source": [
    "# now we're going to remove outliers and identify the transits"
   ]
  },
  {
   "cell_type": "code",
   "execution_count": 74,
   "metadata": {},
   "outputs": [
    {
     "data": {
      "image/png": "[encoded data removed]",
      "text/plain": [
       "<Figure size 432x288 with 1 Axes>"
      ]
     },
     "metadata": {
      "needs_background": "light"
     },
     "output_type": "display_data"
    }
   ],
   "source": [
    "background_fluxes = tpf_data[\"FLUX_BKG\"]\n",
    "background_fluxes_err = tpf_data[\"FLUX_BKG_ERR\"]\n",
    "\n",
    "background_aperture_flux = np.empty(n_cadence)\n",
    "background_aperture_flux_err = np.empty(n_cadence)\n",
    "\n",
    "for ii in range(n_cadence):\n",
    "    background_aperture_flux[ii], background_aperture_flux_err[ii] = aperture_phot(background_fluxes[ii,:,:], background_fluxes_err[ii,:,:], ap_want)\n",
    "    \n",
    "plt.figure(figsize=(6,4))\n",
    "plt.plot(time_bjd, background_aperture_flux, \".\")\n",
    "plt.show()"
   ]
  },
  {
   "cell_type": "code",
   "execution_count": 75,
   "metadata": {},
   "outputs": [],
   "source": [
    "# every dataset has its own background field\n",
    "# here we see a change in time. For instance, this may happen if the planet has a very eccentric orbit, thus \n",
    "# approaching and getting away from the observer. This changes the effect of the atmosphere"
   ]
  },
  {
   "cell_type": "code",
   "execution_count": 76,
   "metadata": {},
   "outputs": [],
   "source": [
    "# now we remove flagged data (somehow damaged, related to the instrument)\n",
    "# check https://heasarc.gsfc.nasa.gov/docs/tess/documentation.html"
   ]
  },
  {
   "cell_type": "markdown",
   "metadata": {},
   "source": [
    "Bit Value FFI Description\n",
    "1 1 Y Attitude Tweak\n",
    "2 2 N Safe Mode\n",
    "3 4 Y Spacecraft is in Coarse Point\n",
    "4 8 N Spacecraft is in Earth Point\n",
    "5 16 Y Argabrightening event\n",
    "6 32 Y Reaction Wheel desaturation Event\n",
    "7 64 N Cosmic Ray in Optimal Aperture pixel\n",
    "8 128 N Manual Exclude. The cadence was excluded because of an anomaly.\n",
    "9 256 N Discontinuity corrected between this cadence and the following one.\n",
    "10 512 N Impulsive outlier removed before cotrending.\n",
    "11 1024 Y Cosmic ray detected on collateral pixel row or column.\n",
    "12 2048 Y Straylight from Earth or Moon in camera FOV (predicted).\n",
    "13 4096 N Scattered Light Exclude (spoc-4.0.5 and later)."
   ]
  },
  {
   "cell_type": "code",
   "execution_count": 77,
   "metadata": {},
   "outputs": [
    {
     "name": "stdout",
     "output_type": "stream",
     "text": [
      "6847\n"
     ]
    },
    {
     "data": {
      "text/plain": [
       "'1101010111111'"
      ]
     },
     "execution_count": 77,
     "metadata": {},
     "output_type": "execute_result"
    }
   ],
   "source": [
    "bit_to_be_checked = [1,2,3,4,5,6,8,10,12,13]\n",
    "value = 0 \n",
    "\n",
    "for v in bit_to_be_checked:\n",
    "    value += 2**(v-1)\n",
    "    \n",
    "print(value)\n",
    "\n",
    "#1101010111111\n",
    "np.binary_repr(value)\n",
    "#now this number has digit 1 if the bit is inluded in the above list, 0 if not\n",
    "# this will work as a mask"
   ]
  },
  {
   "cell_type": "code",
   "execution_count": 78,
   "metadata": {},
   "outputs": [
    {
     "data": {
      "text/plain": [
       "array([152, 144, 128, 128, 128, 128, 128, 128, 128, 128])"
      ]
     },
     "execution_count": 78,
     "metadata": {},
     "output_type": "execute_result"
    }
   ],
   "source": [
    "# we're now going to  use the QUALITY of the dataset, which is just a scalar\n",
    "\n",
    "quality = tpf_data[\"QUALITY\"]\n",
    "\n",
    "quality[:10]"
   ]
  },
  {
   "cell_type": "code",
   "execution_count": 79,
   "metadata": {},
   "outputs": [
    {
     "name": "stdout",
     "output_type": "stream",
     "text": [
      "152\n",
      "10011000\n",
      "1101010111111\n",
      "[152 144 128 128 128 128 128 128 128 128]\n",
      "[ True  True  True  True  True  True  True  True  True  True]\n",
      "[False False False False False False False False False False]\n"
     ]
    }
   ],
   "source": [
    "# comparing the binary numbers bit by bit\n",
    "\n",
    "#for instance\n",
    "print(quality[0])\n",
    "print(np.binary_repr(quality[0]))\n",
    "print(np.binary_repr(value))\n",
    "\n",
    "#     10011000\n",
    "#1101010111111\n",
    "\n",
    "\n",
    "bad_data = np.bitwise_and(quality, value)\n",
    "print(bad_data[:10])\n",
    "bad_selection = (bad_data > 0)\n",
    "print(bad_selection[:10])\n",
    "\n",
    "good_selection = (bad_data == 0)\n",
    "print(good_selection[:10])"
   ]
  },
  {
   "cell_type": "code",
   "execution_count": 80,
   "metadata": {},
   "outputs": [
    {
     "data": {
      "image/png": "[encoded data removed]",
      "text/plain": [
       "<Figure size 432x288 with 1 Axes>"
      ]
     },
     "metadata": {
      "needs_background": "light"
     },
     "output_type": "display_data"
    }
   ],
   "source": [
    "plt.figure(figsize=(6,4))\n",
    "plt.plot(time_bjd, optimal_aperture_flux, \".\", c=\"C3\")\n",
    "plt.plot(time_bjd[good_selection], optimal_aperture_flux[good_selection], \".\", c=\"C2\")\n",
    "\n",
    "for ii in range(0,10):\n",
    "    plt.axvline(2458386.578118+ii*2.423823, c=\"C3\", alpha=0.25)\n",
    "    \n",
    "plt.show()"
   ]
  },
  {
   "cell_type": "code",
   "execution_count": 81,
   "metadata": {},
   "outputs": [
    {
     "name": "stdout",
     "output_type": "stream",
     "text": [
      "[ True  True  True ...  True  True  True]\n"
     ]
    }
   ],
   "source": [
    "fileout = open(\"WASP44_optimal_aperture.dat\", \"w\")\n",
    "\n",
    "not_nan_sel = ~np.isnan(optimal_aperture_flux)\n",
    "print(not_nan_sel)"
   ]
  },
  {
   "cell_type": "code",
   "execution_count": 82,
   "metadata": {},
   "outputs": [
    {
     "name": "stdout",
     "output_type": "stream",
     "text": [
      "[False False False ... False False False]\n"
     ]
    }
   ],
   "source": [
    "final_selection = good_selection & not_nan_sel\n",
    "print(final_selection)\n",
    "\n",
    "for b, v, e in zip(time_bjd[final_selection], optimal_aperture_flux[final_selection], optimal_aperture_flux_err[final_selection]):\n",
    "    fileout.write(\"{0:16f} {1:16f} {2:16f}\\n\".format(b,v,e))\n",
    "\n",
    "fileout.close()"
   ]
  },
  {
   "cell_type": "code",
   "execution_count": 83,
   "metadata": {},
   "outputs": [],
   "source": [
    "# we're now opening the aperture photometry file, already performed by the TESS team"
   ]
  },
  {
   "cell_type": "code",
   "execution_count": 84,
   "metadata": {},
   "outputs": [],
   "source": [
    "#sector3_lc=ale_ubuntu_path + \"/tess2018263035959-s0003-0000000012862099-0123-s_lc.fits\"\n",
    "sector3_lc = \"../../MAST/tess2018263035959-s0003-0000000012862099-0123-s_lc.fits\""
   ]
  },
  {
   "cell_type": "code",
   "execution_count": 85,
   "metadata": {},
   "outputs": [
    {
     "name": "stdout",
     "output_type": "stream",
     "text": [
      "Filename: ../MAST/tess2018263035959-s0003-0000000012862099-0123-s_lc.fits\n",
      "No.    Name      Ver    Type      Cards   Dimensions   Format\n",
      "  0  PRIMARY       1 PrimaryHDU      44   ()      \n",
      "  1  LIGHTCURVE    1 BinTableHDU    167   19692R x 20C   [D, E, J, E, E, E, E, E, E, J, D, E, D, E, D, E, D, E, E, E]   \n",
      "  2  APERTURE      1 ImageHDU        49   (11, 11)   int32   \n"
     ]
    }
   ],
   "source": [
    "fits.info(sector3_lc)"
   ]
  },
  {
   "cell_type": "code",
   "execution_count": 86,
   "metadata": {},
   "outputs": [
    {
     "data": {
      "text/plain": [
       "ColDefs(\n",
       "    name = 'TIME'; format = 'D'; unit = 'BJD - 2457000, days'; disp = 'D14.7'\n",
       "    name = 'TIMECORR'; format = 'E'; unit = 'd'; disp = 'E14.7'\n",
       "    name = 'CADENCENO'; format = 'J'; disp = 'I10'\n",
       "    name = 'SAP_FLUX'; format = 'E'; unit = 'e-/s'; disp = 'E14.7'\n",
       "    name = 'SAP_FLUX_ERR'; format = 'E'; unit = 'e-/s'; disp = 'E14.7'\n",
       "    name = 'SAP_BKG'; format = 'E'; unit = 'e-/s'; disp = 'E14.7'\n",
       "    name = 'SAP_BKG_ERR'; format = 'E'; unit = 'e-/s'; disp = 'E14.7'\n",
       "    name = 'PDCSAP_FLUX'; format = 'E'; unit = 'e-/s'; disp = 'E14.7'\n",
       "    name = 'PDCSAP_FLUX_ERR'; format = 'E'; unit = 'e-/s'; disp = 'E14.7'\n",
       "    name = 'QUALITY'; format = 'J'; disp = 'B16.16'\n",
       "    name = 'PSF_CENTR1'; format = 'D'; unit = 'pixel'; disp = 'F10.5'\n",
       "    name = 'PSF_CENTR1_ERR'; format = 'E'; unit = 'pixel'; disp = 'E14.7'\n",
       "    name = 'PSF_CENTR2'; format = 'D'; unit = 'pixel'; disp = 'F10.5'\n",
       "    name = 'PSF_CENTR2_ERR'; format = 'E'; unit = 'pixel'; disp = 'E14.7'\n",
       "    name = 'MOM_CENTR1'; format = 'D'; unit = 'pixel'; disp = 'F10.5'\n",
       "    name = 'MOM_CENTR1_ERR'; format = 'E'; unit = 'pixel'; disp = 'E14.7'\n",
       "    name = 'MOM_CENTR2'; format = 'D'; unit = 'pixel'; disp = 'F10.5'\n",
       "    name = 'MOM_CENTR2_ERR'; format = 'E'; unit = 'pixel'; disp = 'E14.7'\n",
       "    name = 'POS_CORR1'; format = 'E'; unit = 'pixels'; disp = 'E14.7'\n",
       "    name = 'POS_CORR2'; format = 'E'; unit = 'pixels'; disp = 'E14.7'\n",
       ")"
      ]
     },
     "execution_count": 86,
     "metadata": {},
     "output_type": "execute_result"
    }
   ],
   "source": [
    "lchdu = fits.open(sector3_lc)\n",
    "lchdu[1].columns"
   ]
  },
  {
   "cell_type": "code",
   "execution_count": 87,
   "metadata": {},
   "outputs": [],
   "source": [
    "# SAP = simple aperture photometry, meaning the same thing we did manually on the data\n",
    "# PDCSAP is SAP after correcting for the instrument systematics (via research data conditioning)\n",
    "# we're going to use both of them, flatten both lightcurves and finally see with our eyes if the correction \n",
    "# was necesary or not"
   ]
  },
  {
   "cell_type": "code",
   "execution_count": 88,
   "metadata": {},
   "outputs": [
    {
     "name": "stdout",
     "output_type": "stream",
     "text": [
      "[(1382.04024484, 0.00566113, 111297,       nan,      nan,       nan,       nan, nan, nan, 152, nan, nan, nan, nan,           nan,        nan,           nan,        nan, nan, nan)\n",
      " (1382.04163374, 0.00566114, 111298,       nan,      nan,       nan,       nan, nan, nan, 144, nan, nan, nan, nan,           nan,        nan,           nan,        nan, nan, nan)\n",
      " (1382.04302264, 0.00566115, 111299, 1299.9954, 6.556884, 1536.4954, 2.7421794, nan, nan, 128, nan, nan, nan, nan, 2061.32853436, 0.00308527, 1194.08095933, 0.00340514, nan, nan)\n",
      " ...\n",
      " (1409.38547555, 0.00506957, 130986, 1297.4105, 8.522649, 3498.2432, 3.901426 , nan, nan, 128, nan, nan, nan, nan, 2061.41782462, 0.00409209, 1193.90680517, 0.00442897, nan, nan)\n",
      " (1409.38686438, 0.00506952, 130987, 1297.5286, 8.520175, 3494.8215, 3.9030259, nan, nan, 128, nan, nan, nan, nan, 2061.41962615, 0.00409219, 1193.91541558, 0.00442653, nan, nan)\n",
      " (1409.38825322, 0.00506947, 130988, 1255.7812, 8.493889, 3498.7412, 3.8991983, nan, nan, 132, nan, nan, nan, nan, 2061.41384567, 0.00421123, 1193.90412569, 0.00456262, nan, nan)]\n"
     ]
    }
   ],
   "source": [
    "lcu_data = lchdu[1].data\n",
    "print(lcu_data)"
   ]
  },
  {
   "cell_type": "code",
   "execution_count": 89,
   "metadata": {},
   "outputs": [
    {
     "name": "stdout",
     "output_type": "stream",
     "text": [
      "[1382.04024484 1382.04163374 1382.04302264 ... 1409.38547555 1409.38686438\n",
      " 1409.38825322]\n",
      "2457000.0\n"
     ]
    }
   ],
   "source": [
    "time_bjd = lcu_data[\"TIME\"]\n",
    "lcu_head = lchdu[1].header\n",
    "bjd_ref = lcu_head[\"BJDREFI\"] + lcu_head[\"BJDREFF\"]\n",
    "\n",
    "print(time_bjd)\n",
    "print(bjd_ref)\n",
    "\n",
    "time_bjd = lcu_data[\"TIME\"] + bjd_ref"
   ]
  },
  {
   "cell_type": "code",
   "execution_count": 90,
   "metadata": {},
   "outputs": [
    {
     "data": {
      "text/plain": [
       "(19692,)"
      ]
     },
     "execution_count": 90,
     "metadata": {},
     "output_type": "execute_result"
    }
   ],
   "source": [
    "np.shape(time_bjd)"
   ]
  },
  {
   "cell_type": "code",
   "execution_count": 91,
   "metadata": {},
   "outputs": [
    {
     "name": "stdout",
     "output_type": "stream",
     "text": [
      "6847\n",
      "[152 144 128 128 128 128 128 128 128 128]\n",
      "[ True  True  True  True  True  True  True  True  True  True]\n",
      "[False False False False False False False False False False]\n",
      "[False False False ... False False False]\n"
     ]
    }
   ],
   "source": [
    "sap_flux = lcu_data[\"SAP_FLUX\"]\n",
    "sap_flux_err = lcu_data[\"SAP_FLUX_ERR\"]\n",
    "\n",
    "pdcsap_flux = lcu_data[\"PDCSAP_FLUX\"]\n",
    "pdcsap_flux_err = lcu_data[\"PDCSAP_FLUX_ERR\"]\n",
    "\n",
    "# we immediately perform the quality selection we did before\n",
    "\n",
    "quality = lcu_data[\"QUALITY\"]\n",
    "\n",
    "bit_to_be_checked = [1,2,3,4,5,6,8,10,12,13]\n",
    "value = 0 \n",
    "\n",
    "for v in bit_to_be_checked:\n",
    "    value += 2**(v-1)\n",
    "    \n",
    "print(value)\n",
    "np.binary_repr(value)\n",
    "\n",
    "\n",
    "bad_data = np.bitwise_and(quality, value)\n",
    "print(bad_data[:10])\n",
    "bad_selection = (bad_data > 0)\n",
    "print(bad_selection[:10])\n",
    "\n",
    "good_selection = (bad_data == 0)\n",
    "print(good_selection[:10])\n",
    "\n",
    "not_nan_sel = (~np.isnan(pdcsap_flux)) & (~np.isnan(sap_flux))\n",
    "print(not_nan_sel)\n",
    "\n",
    "final_selection = good_selection & not_nan_sel"
   ]
  },
  {
   "cell_type": "code",
   "execution_count": 92,
   "metadata": {},
   "outputs": [
    {
     "data": {
      "image/png": "[encoded data removed]",
      "text/plain": [
       "<Figure size 432x288 with 1 Axes>"
      ]
     },
     "metadata": {
      "needs_background": "light"
     },
     "output_type": "display_data"
    }
   ],
   "source": [
    "plt.figure(figsize=(6,4))\n",
    "plt.plot(time_bjd, optimal_aperture_flux, \".\", c= \"C0\", ms=8)\n",
    "plt.plot(time_bjd, sap_flux, \".\", c= \"C1\", ms=4)\n",
    "plt.plot(time_bjd, pdcsap_flux, \".\", c=\"C2\")\n",
    "\n",
    "plt.show()"
   ]
  },
  {
   "cell_type": "code",
   "execution_count": 93,
   "metadata": {},
   "outputs": [],
   "source": [
    "# see how orange and blue points are most overlapping: it menas that our sap is the same as the  one\n",
    "# provided by the TESS team"
   ]
  },
  {
   "cell_type": "code",
   "execution_count": 94,
   "metadata": {},
   "outputs": [
    {
     "data": {
      "image/png": "[encoded data removed]",
      "text/plain": [
       "<Figure size 432x288 with 1 Axes>"
      ]
     },
     "metadata": {
      "needs_background": "light"
     },
     "output_type": "display_data"
    }
   ],
   "source": [
    "plt.figure(figsize=(6,4))\n",
    "plt.plot(time_bjd[final_selection], optimal_aperture_flux[final_selection], \".\", c= \"C0\", ms=8)\n",
    "plt.plot(time_bjd[final_selection], sap_flux[final_selection], \".\", c= \"C1\", ms=4)\n",
    "plt.plot(time_bjd[final_selection], pdcsap_flux[final_selection], \".\", c=\"C2\")\n",
    "\n",
    "plt.show()"
   ]
  },
  {
   "cell_type": "code",
   "execution_count": 95,
   "metadata": {},
   "outputs": [],
   "source": [
    "fileout = open(\"WASP44_SAP_flux.dat\", \"w\")\n",
    "\n",
    "for b, v, e in zip(time_bjd[final_selection], sap_flux[final_selection], sap_flux_err[final_selection]):\n",
    "    fileout.write(\"{0:16f} {1:16f} {2:16f}\\n\".format(b,v,e))\n",
    "\n",
    "fileout.close()"
   ]
  },
  {
   "cell_type": "code",
   "execution_count": 96,
   "metadata": {},
   "outputs": [],
   "source": [
    "fileout = open(\"WASP44_PDCSAP_flux.dat\", \"w\")\n",
    "\n",
    "for b, v, e in zip(time_bjd[final_selection], pdcsap_flux[final_selection], pdcsap_flux_err[final_selection]):\n",
    "    fileout.write(\"{0:16f} {1:16f} {2:16f}\\n\".format(b,v,e))\n",
    "\n",
    "fileout.close()"
   ]
  },
  {
   "cell_type": "code",
   "execution_count": null,
   "metadata": {},
   "outputs": [],
   "source": []
  }
 ],
 "metadata": {
  "kernelspec": {
   "display_name": "Python 3",
   "language": "python",
   "name": "python3"
  },
  "language_info": {
   "codemirror_mode": {
    "name": "ipython",
    "version": 3
   },
   "file_extension": ".py",
   "mimetype": "text/x-python",
   "name": "python",
   "nbconvert_exporter": "python",
   "pygments_lexer": "ipython3",
   "version": "3.9.4"
  }
 },
 "nbformat": 4,
 "nbformat_minor": 4
}
