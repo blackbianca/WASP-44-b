{
 "cells": [
  {
   "cell_type": "code",
   "execution_count": 7,
   "metadata": {
    "pycharm": {
     "is_executing": false
    }
   },
   "outputs": [],
   "source": [
    "import numpy as np\n",
    "%matplotlib inline\n",
    "import matplotlib.pyplot as plt\n",
    "import collections\n",
    "import matplotlib.gridspec as gridspec # GRIDSPEC !\n",
    "import collections\n",
    "import matplotlib\n"
   ]
  },
  {
   "cell_type": "markdown",
   "metadata": {},
   "source": [
    "Radial velocit .dat file requires an extra \"0\" column, which is a RV offset that the code will compute automatically. This is related to the peculiar velocity of the star.\n",
    "Prior for the .yaml file must come from TESS."
   ]
  },
  {
   "cell_type": "code",
   "execution_count": 8,
   "metadata": {
    "pycharm": {
     "is_executing": false
    }
   },
   "outputs": [],
   "source": [
    "def plots_in_grid():\n",
    "    # Partially taken from here:\n",
    "    # http://www.sc.eso.org/~bdias/pycoffee/codes/20160407/gridspec_demo.html\n",
    "    \n",
    "    gs = gridspec.GridSpec(2,1, height_ratios=[3.0,1.0])\n",
    "    # Also make sure the margins and spacing are apropriate\n",
    "    gs.update(left=0.2, right=0.95, bottom=0.08, top=0.93, wspace=0.02, hspace=0.03)\n",
    "    \n",
    "    ax_0 = plt.subplot(gs[0])\n",
    "    ax_1 = plt.subplot(gs[1], sharex=ax_0)\n",
    "\n",
    "    # Adding minor ticks only to x axis\n",
    "    from matplotlib.ticker import AutoMinorLocator\n",
    "    minorLocator = AutoMinorLocator()\n",
    "    ax_0.xaxis.set_minor_locator(minorLocator)\n",
    "    ax_1.xaxis.set_minor_locator(minorLocator)\n",
    "\n",
    "    # Disabling the offset on top of the plot\n",
    "    ax_0.ticklabel_format(useOffset=False, style='plain')\n",
    "    ax_1.ticklabel_format(useOffset=False, style='plain')\n",
    "    return ax_0, ax_1"
   ]
  },
  {
   "cell_type": "code",
   "execution_count": 9,
   "metadata": {
    "pycharm": {
     "is_executing": false
    }
   },
   "outputs": [],
   "source": [
    "#dir_base = \"/home/ubuntu/Desktop/lab2/WASP-44/WASP-44-b/RV_analysis/\"\n",
    "dir_base = \"/home/adri/Desktop/Astrolab2/Ziggy/WASP-44-b/RV_analysis/\"\n",
    "\n",
    "dir_mods = '/harmonics'  # Change according to the name of the configuration file\n",
    "dir_plot = \"/WASP44_RV_harmonics/emcee_plot/model_files/\"\n",
    "\n",
    "filename = 'RV_WASP44_polynomialtrend' # Change according to the name of the configuration file\n",
    "\n",
    "# Comment/uncomment according to the number of datasets and their names\n",
    "#datasets_list = ['RVdata_dataset1', 'RVdata_dataset2'] \n",
    "datasets_list = ['RVdata']\n",
    "\n",
    "# Comment/uncomment according to the models listed in your configuration files\n",
    "#additional_models = ['harmonics']\n",
    "additional_models=['']\n",
    "\n",
    "# Comment/uncomment and change according to the parameters of the best fit \n",
    "# from the RV analysis\n",
    "planet_dict = collections.OrderedDict()\n",
    "planet_dict['b'] =  {\n",
    "    'P': 2.423805,          # Change the Period with the output of GetResults\n",
    "    'Tc': 2458386.578273,      # Change the Time of Transit with the output of GetResults\n",
    "    'limits_folded_x': [-0.75, 0.75],\n",
    "    #'limits_folded_y': [-67.8, 67.8],\n",
    "    #'limits_residuals_y': [-5.5, 5.5],\n",
    "    'transit_folded': True\n",
    "}\n",
    "\n",
    "#planet_dict['c'] =  {\n",
    "#    'P': 29.847138,# 0.446547,\n",
    "#    'Tc': 7394.977940,\n",
    "#    'limits_folded_x': [-0.25, 1.25],\n",
    "#    'transit_folded': False}\n",
    "\n",
    "#planet_dict['d'] =  {\n",
    "#    'P': 56.815109,\n",
    "#    'Tc': 7738.582713,\n",
    "#    'limits_folded_x': [-0.25, 1.25],\n",
    "#    'transit_folded': False\n",
    "#}\n",
    "\n",
    "\n",
    "\n",
    "full_dict = {\n",
    "    'reference_planet': 'b',\n",
    "    #'limits_full_x': [-0.75, 0.75],\n",
    "    'limits_full_x': [-0.25, 1.25],\n",
    "    #'limits_bjd': [2458336.573427, 2458435.5],          # Change the interval of the plot\n",
    "    #'limits_full_y': [-69.0, 69.0],\n",
    "    #'limits_residuals_y': [-5.5, 5.5],\n",
    "}"
   ]
  },
  {
   "cell_type": "code",
   "execution_count": 10,
   "metadata": {
    "pycharm": {
     "is_executing": false
    }
   },
   "outputs": [
    {
     "name": "stdout",
     "output_type": "stream",
     "text": [
      "Planet  b , RV curve folded around the transit time\n",
      "Folded plot for planet  b  saved to: RV_WASP44_polynomialtrend_b_folded.png\n"
     ]
    },
    {
     "data": {
      "image/png": "[encoded data removed]",
      "text/plain": [
       "<Figure size 504x432 with 2 Axes>"
      ]
     },
     "metadata": {
      "needs_background": "light"
     },
     "output_type": "display_data"
    }
   ],
   "source": [
    "# Folder RV plot for each of the planet\n",
    "\n",
    "font_label = 14\n",
    "dot_size = 15\n",
    "\n",
    "figsize = ((7,6))\n",
    "\n",
    "csfont = {'fontname':'Times New Roman'}\n",
    "matplotlib.rc('font',**{'family':'serif','serif':['Times New Roman']})\n",
    "matplotlib.rcParams.update({'font.size': font_label})\n",
    "\n",
    "\n",
    "n_figure = 0\n",
    "for key_name, key_val in planet_dict.items():\n",
    "    #RV_full = np.genfromtxt(dir_base + dir_mods + dir_plot + 'RVdata_HARPN_full.dat', skip_header=1)\n",
    "\n",
    "\n",
    "    #sel = (RV_mod_temp[:,9] < 7.8)\n",
    "    #RV_mod = RV_mod_temp[sel,:]\n",
    "    \n",
    "    #RV_mod = np.genfromtxt(dir_base + dir_mods + dir_plot + 'RVdata_HARPN_radial_velocities_'+key_name+'.dat', skip_header=1)\n",
    "    #RV_mod_full = np.genfromtxt(dir_base + dir_mods + dir_plot + 'RVdata_HARPN_radial_velocities_'+key_name+'_full.dat', skip_header=1)\n",
    "    RV_kep = np.genfromtxt(dir_base + dir_mods + dir_plot + 'RV_planet_'+key_name+'_kep.dat', skip_header=1)\n",
    "\n",
    "    if key_val.get('transit_folded',True):\n",
    "        RV_pha = np.genfromtxt(dir_base + dir_mods + dir_plot + 'RV_planet_'+key_name+'_Tcf.dat', skip_header=1)\n",
    "    else:\n",
    "        RV_pha = np.genfromtxt(dir_base + dir_mods + dir_plot + 'RV_planet_'+key_name+'_pha.dat', skip_header=1)\n",
    "\n",
    "\n",
    "    \n",
    "    fig = plt.figure(n_figure, figsize=figsize)\n",
    "\n",
    "    ax_0, ax_1 = plots_in_grid()\n",
    "    \n",
    "    if key_val.get('transit_folded',False):\n",
    "        print('Planet ',key_name,', RV curve folded around the transit time')\n",
    "        ax_0.axvline(-1.0, color='k', alpha=0.2, ls='--')\n",
    "        ax_0.axvline( 1.0, color='k', alpha=0.2, ls='--')\n",
    "\n",
    "        ax_1.axvline(-1.0, color='k', alpha=0.2, ls='--')\n",
    "        ax_1.axvline( 1.0, color='k', alpha=0.2, ls='--')\n",
    "        \n",
    "    else:\n",
    "        print('Planet ',key_name,', RV curve folded around the reference time')\n",
    "        ax_0.axvline(-0.5, color='k', alpha=0.2, ls='--')\n",
    "        ax_0.axvline( 0.5, color='k', alpha=0.2, ls='--')\n",
    "\n",
    "        ax_1.axvline(-0.5, color='k', alpha=0.2, ls='--')\n",
    "        ax_1.axvline( 0.5, color='k', alpha=0.2, ls='--')\n",
    "    \n",
    "    \n",
    "    \n",
    "    # Plot of the model\n",
    "    ax_0.plot(RV_pha[:,0]-1,RV_pha[:,1], color='k', linestyle='-', zorder=2, label='RV model')\n",
    "    ax_0.plot(RV_pha[:,0]+1,RV_pha[:,1], color='k', linestyle='-', zorder=2)\n",
    "\n",
    "    \n",
    "    for n_dataset, dataset in enumerate(datasets_list):\n",
    "        default_color = 'C' + repr(2-n_dataset)\n",
    "\n",
    "        RV_mod_temp = np.genfromtxt(dir_base + dir_mods + dir_plot + dataset + '_radial_velocities_'+key_name+'.dat', skip_header=1)\n",
    "        sel = (RV_mod_temp[:,9] < 400)\n",
    "        RV_mod = RV_mod_temp[sel,:]\n",
    "    \n",
    "        if key_val.get('transit_folded',False):\n",
    "            rv_phase = RV_mod[:,1] / planet_dict[key_name]['P']\n",
    "        else:\n",
    "            rv_phase = RV_mod[:,2]\n",
    "        \n",
    "        ax_0.errorbar(rv_phase, RV_mod[:,8], yerr=RV_mod[:,9], color='black', markersize=0, alpha=0.25, fmt='o', zorder=0)\n",
    "        ax_0.scatter(rv_phase, RV_mod[:,8], c=default_color, s=dot_size, zorder=5, alpha=1.0, label=dataset)\n",
    "\n",
    "        # Adding points at phase-1\n",
    "        ax_0.errorbar(rv_phase-1, RV_mod[:,8], yerr=RV_mod[:,9], color='black', markersize=0, alpha=0.25, fmt='o', zorder=0)\n",
    "        ax_0.scatter(rv_phase-1, RV_mod[:,8], c='gray', s=dot_size, zorder=10, alpha=1.0)\n",
    "\n",
    "        # Adding points at phase+1\n",
    "        ax_0.errorbar(rv_phase+1, RV_mod[:,8], yerr=RV_mod[:,9], color='black', markersize=0, alpha=0.25, fmt='o', zorder=0)\n",
    "        ax_0.scatter(rv_phase+1, RV_mod[:,8], c='gray', s=dot_size, zorder=10, alpha=1.0)\n",
    "\n",
    "\n",
    "        # plot of the residuals\n",
    "        ax_1.errorbar(rv_phase, RV_mod[:,10], yerr=RV_mod[:,11], color='black', markersize=0, alpha=0.25, fmt='o', zorder=1)\n",
    "        ax_1.scatter(rv_phase, RV_mod[:,10], c=default_color, s=dot_size, zorder=10, alpha=1.0)\n",
    "\n",
    "        # Adding points at phase-1\n",
    "        ax_1.errorbar(rv_phase-1, RV_mod[:,10], yerr=RV_mod[:,11], color='black', markersize=0, alpha=0.25, fmt='o', zorder=1)\n",
    "        ax_1.scatter(rv_phase-1, RV_mod[:,10], c='gray', s=dot_size, zorder=10, alpha=1.0)\n",
    "\n",
    "        # Adding points at phase+1\n",
    "        ax_1.errorbar(rv_phase+1, RV_mod[:,10], yerr=RV_mod[:,11], color='black', markersize=0, alpha=0.25, fmt='o', zorder=1)\n",
    "        ax_1.scatter(rv_phase+1, RV_mod[:,10], c='gray', s=dot_size, zorder=10, alpha=1.0)\n",
    "\n",
    "    \n",
    "    \n",
    "    \n",
    "    ax_1.axhline(0.000, c='k', zorder=3)\n",
    "        \n",
    "    if key_val.get('limits_folded_x', False):\n",
    "        ax_0.set_xlim(key_val['limits_folded_x'][0], key_val['limits_folded_x'][1])\n",
    "        ax_1.set_xlim(key_val['limits_folded_x'][0], key_val['limits_folded_x'][1])\n",
    "    if key_val.get('limits_folded_y', False):\n",
    "        ax_0.set_ylim(key_val['limits_folded_y'][0], key_val['limits_folded_y'][1])\n",
    "    if key_val.get('limits_residuals_y', False):\n",
    "        ax_1.set_ylim(key_val['limits_residuals_y'][0], key_val['limits_residuals_y'][1])\n",
    "\n",
    "    ax_0.axvline(-0.500, c='k', zorder=3, alpha=0.5, linestyle='--')\n",
    "    ax_0.axvline(0.500, c='k', zorder=3, alpha=0.5, linestyle='--')\n",
    "\n",
    "    ax_1.axvline(-0.500, c='k', zorder=3, alpha=0.5, linestyle='--')\n",
    "    ax_1.axvline(0.500, c='k', zorder=3, alpha=0.5, linestyle='--')\n",
    "  \n",
    "    ax_0.axes.get_xaxis().set_ticks([])\n",
    "    \n",
    "    ax_0.set_ylabel('RV [m/s]')\n",
    "    ax_1.set_xlabel('Orbital Phase')\n",
    "    ax_1.set_ylabel('Residuals [m/s]')\n",
    "    \n",
    "    #ax_0.legend()\n",
    "    plot_filename = filename+'_'+key_name+'_folded.png'\n",
    "    print('Folded plot for planet ',key_name,' saved to:', plot_filename )\n",
    "    plt.savefig(plot_filename, dpi=300, bbox_inches='tight')\n",
    "    n_figure += 1"
   ]
  },
  {
   "cell_type": "code",
   "execution_count": 11,
   "metadata": {
    "pycharm": {
     "is_executing": false
    },
    "scrolled": true
   },
   "outputs": [
    {
     "ename": "KeyError",
     "evalue": "'limits_bjd'",
     "output_type": "error",
     "traceback": [
      "\u001b[0;31m---------------------------------------------------------------------------\u001b[0m",
      "\u001b[0;31mKeyError\u001b[0m                                  Traceback (most recent call last)",
      "\u001b[0;32m<ipython-input-11-846ffefcd476>\u001b[0m in \u001b[0;36m<module>\u001b[0;34m\u001b[0m\n\u001b[1;32m     55\u001b[0m \u001b[0mplot_filename\u001b[0m \u001b[0;34m=\u001b[0m \u001b[0mfilename\u001b[0m\u001b[0;34m+\u001b[0m\u001b[0;34m'_'\u001b[0m\u001b[0;34m+\u001b[0m\u001b[0;34m'full_RVs.png'\u001b[0m\u001b[0;34m\u001b[0m\u001b[0;34m\u001b[0m\u001b[0m\n\u001b[1;32m     56\u001b[0m \u001b[0;34m\u001b[0m\u001b[0m\n\u001b[0;32m---> 57\u001b[0;31m \u001b[0max_0\u001b[0m\u001b[0;34m.\u001b[0m\u001b[0mset_xlim\u001b[0m\u001b[0;34m(\u001b[0m\u001b[0mfull_dict\u001b[0m\u001b[0;34m[\u001b[0m\u001b[0;34m'limits_bjd'\u001b[0m\u001b[0;34m]\u001b[0m\u001b[0;34m[\u001b[0m\u001b[0;36m0\u001b[0m\u001b[0;34m]\u001b[0m\u001b[0;34m,\u001b[0m \u001b[0mfull_dict\u001b[0m\u001b[0;34m[\u001b[0m\u001b[0;34m'limits_bjd'\u001b[0m\u001b[0;34m]\u001b[0m\u001b[0;34m[\u001b[0m\u001b[0;36m1\u001b[0m\u001b[0;34m]\u001b[0m\u001b[0;34m)\u001b[0m\u001b[0;34m\u001b[0m\u001b[0;34m\u001b[0m\u001b[0m\n\u001b[0m\u001b[1;32m     58\u001b[0m \u001b[0max_1\u001b[0m\u001b[0;34m.\u001b[0m\u001b[0mset_xlim\u001b[0m\u001b[0;34m(\u001b[0m\u001b[0mfull_dict\u001b[0m\u001b[0;34m[\u001b[0m\u001b[0;34m'limits_bjd'\u001b[0m\u001b[0;34m]\u001b[0m\u001b[0;34m[\u001b[0m\u001b[0;36m0\u001b[0m\u001b[0;34m]\u001b[0m\u001b[0;34m,\u001b[0m \u001b[0mfull_dict\u001b[0m\u001b[0;34m[\u001b[0m\u001b[0;34m'limits_bjd'\u001b[0m\u001b[0;34m]\u001b[0m\u001b[0;34m[\u001b[0m\u001b[0;36m1\u001b[0m\u001b[0;34m]\u001b[0m\u001b[0;34m)\u001b[0m\u001b[0;34m\u001b[0m\u001b[0;34m\u001b[0m\u001b[0m\n\u001b[1;32m     59\u001b[0m \u001b[0;34m\u001b[0m\u001b[0m\n",
      "\u001b[0;31mKeyError\u001b[0m: 'limits_bjd'"
     ]
    },
    {
     "data": {
      "image/png": "[encoded data removed]",
      "text/plain": [
       "<Figure size 504x432 with 2 Axes>"
      ]
     },
     "metadata": {
      "needs_background": "light"
     },
     "output_type": "display_data"
    }
   ],
   "source": [
    "ref_planet = full_dict['reference_planet']\n",
    "\n",
    "fig = plt.figure(n_figure, figsize=figsize)\n",
    "ax_0, ax_1 = plots_in_grid()\n",
    "default_color = 'C' + repr(n_figure)\n",
    "\n",
    "RV_mod = 0\n",
    "for key_name, key_val in planet_dict.items():\n",
    "    RV_kep = np.genfromtxt(dir_base + dir_mods + dir_plot + 'RV_planet_'+key_name+'_kep.dat', skip_header=1)\n",
    "    try:\n",
    "        RV_mod += RV_kep[:,1]\n",
    "    except:\n",
    "        RV_mod = RV_kep[:,1]\n",
    "    #RV_pha = np.genfromtxt(dir_base + dir_mods + dir_plot + 'RV_planet_'+ref_planet+'_pha.dat', skip_header=1)\n",
    "\n",
    "\n",
    "for key_n, key_name in enumerate(additional_models):\n",
    "    if key_name == '': continue\n",
    "\n",
    "    RV_add = np.genfromtxt(dir_base + dir_mods + dir_plot + datasets_list[0] + '_' + key_name + '_full.dat', skip_header=1)\n",
    "    RV_mod += RV_add[:,3]\n",
    "\n",
    "    \n",
    "ax_0.plot(RV_kep[:,0],RV_mod, color='k', linestyle='-', zorder=2, alpha=0.25, lw=0.5)\n",
    "\n",
    "\n",
    "for n_dataset, dataset in enumerate(datasets_list):\n",
    "    default_color = 'C' + repr(2-n_dataset)\n",
    "\n",
    "    #RV_mod = np.genfromtxt(dir_base + dir_mods + dir_plot + 'RVdata_HARPN_radial_velocities_'+ref_planet+'.dat', skip_header=1)\n",
    "    RV_mod_temp = np.genfromtxt(dir_base + dir_mods + dir_plot + dataset + '_radial_velocities_'+full_dict['reference_planet']+'.dat', skip_header=1)\n",
    "    sel = (RV_mod_temp[:,9] < 400)\n",
    "    RV_mod = RV_mod_temp[sel,:]\n",
    "    \n",
    "    ax_0.errorbar(RV_mod[:,0], RV_mod[:,3]-RV_mod[:,5], yerr=RV_mod[:,4], color='black', markersize=0, alpha=0.25, fmt='o', zorder=0)\n",
    "    ax_0.scatter(RV_mod[:,0], RV_mod[:,3]-RV_mod[:,5], c=default_color, s=5, zorder=10, alpha=0.5)\n",
    "\n",
    "    # plot of the residuals\n",
    "    ax_1.errorbar(RV_mod[:,0], RV_mod[:,10], yerr=RV_mod[:,11], color='black', markersize=0, alpha=0.25, fmt='o', zorder=1)\n",
    "    ax_1.scatter(RV_mod[:,0], RV_mod[:,10], c=default_color, s=5, zorder=10, alpha=0.5)\n",
    "\n",
    "ax_1.axhline(0.000, c='k', zorder=3)\n",
    "\n",
    "if full_dict.get('limits_folded_x', False):\n",
    "    ax_0.set_xlim(full_dict['limits_folded_x'][0], full_dict['limits_folded_x'][1])\n",
    "    ax_1.set_xlim(full_dict['limits_folded_x'][0], full_dict['limits_folded_x'][1])\n",
    "if full_dict.get('limits_folded_y', False):\n",
    "    ax_0.set_ylim(full_dict['limits_folded_y'][0], full_dict['limits_folded_y'][1])\n",
    "if full_dict.get('limits_residuals_y', False):\n",
    "    ax_1.set_ylim(full_dict['limits_residuals_y'][0], full_dict['limits_residuals_y'][1])\n",
    "\n",
    "ax_0.set_ylabel('RV [m/s]')\n",
    "ax_1.set_xlabel('BJD - 2450000.0')\n",
    "ax_1.set_ylabel('Residuals')\n",
    "plot_filename = filename+'_'+'full_RVs.png'\n",
    "\n",
    "ax_0.set_xlim(full_dict['limits_bjd'][0], full_dict['limits_bjd'][1])\n",
    "ax_1.set_xlim(full_dict['limits_bjd'][0], full_dict['limits_bjd'][1])\n",
    "\n",
    "\n",
    "#RV_kep = np.genfromtxt(dir_base + dir_mods + dir_plot + 'RV_planet_e_kep.dat', skip_header=1)\n",
    "#ax_0.plot(RV_kep[:,0], RV_kep[:,1], c='C3')\n",
    "\n",
    "#RV_kep = np.genfromtxt(dir_base + dir_mods + dir_plot + 'RV_planet_f_kep.dat', skip_header=1)\n",
    "#ax_0.plot(RV_kep[:,0], RV_kep[:,1], c='C4')\n",
    "\n",
    "print('Full keplerian plot for planet saved to:', plot_filename )\n",
    "plt.savefig(plot_filename, dpi=300, bbox_inches='tight')\n"
   ]
  },
  {
   "cell_type": "code",
   "execution_count": null,
   "metadata": {
    "pycharm": {
     "is_executing": false
    }
   },
   "outputs": [],
   "source": []
  },
  {
   "cell_type": "code",
   "execution_count": null,
   "metadata": {
    "pycharm": {
     "name": "#%%\n"
    }
   },
   "outputs": [],
   "source": [
    "\n"
   ]
  }
 ],
 "metadata": {
  "kernelspec": {
   "display_name": "Python 3",
   "language": "python",
   "name": "python3"
  },
  "language_info": {
   "codemirror_mode": {
    "name": "ipython",
    "version": 3
   },
   "file_extension": ".py",
   "mimetype": "text/x-python",
   "name": "python",
   "nbconvert_exporter": "python",
   "pygments_lexer": "ipython3",
   "version": "3.8.8"
  },
  "pycharm": {
   "stem_cell": {
    "cell_type": "raw",
    "metadata": {
     "collapsed": false
    },
    "source": []
   }
  }
 },
 "nbformat": 4,
 "nbformat_minor": 2
}
